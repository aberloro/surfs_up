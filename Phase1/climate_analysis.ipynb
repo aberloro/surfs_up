{
 "cells": [
  {
   "cell_type": "code",
   "execution_count": 17,
   "metadata": {},
   "outputs": [],
   "source": [
    "%matplotlib inline\n",
    "from matplotlib import style\n",
    "style.use('fivethirtyeight')\n",
    "import matplotlib.pyplot as plt"
   ]
  },
  {
   "cell_type": "code",
   "execution_count": 18,
   "metadata": {},
   "outputs": [],
   "source": [
    "import numpy as np\n",
    "import pandas as pd"
   ]
  },
  {
   "cell_type": "code",
   "execution_count": 19,
   "metadata": {},
   "outputs": [],
   "source": [
    "import datetime as dt"
   ]
  },
  {
   "cell_type": "code",
   "execution_count": 20,
   "metadata": {},
   "outputs": [],
   "source": [
    "# Python SQL toolkit and Object Relational Mapper\n",
    "import sqlalchemy\n",
    "from sqlalchemy.ext.automap import automap_base\n",
    "from sqlalchemy.orm import Session\n",
    "from sqlalchemy import create_engine, func"
   ]
  },
  {
   "cell_type": "markdown",
   "metadata": {},
   "source": [
    "# Reflect Tables into SQLAlchemy ORM"
   ]
  },
  {
   "cell_type": "markdown",
   "metadata": {},
   "source": [
    "### 9.1.5"
   ]
  },
  {
   "cell_type": "markdown",
   "metadata": {},
   "source": [
    "### SQLite Intro"
   ]
  },
  {
   "cell_type": "markdown",
   "metadata": {},
   "source": [
    "SQLite is a quick way to set up database engine w/o a server\n",
    "    \n",
    "    - files are flat: no relationships\n",
    "    - SQLite database is similar to CSV file (1 or more tables with rows, columns) BUT can write queries\n",
    "    - Advantages\n",
    "        - local files enable quick testing\n",
    "        - has mobile phone app\n",
    "    - Disadvantages\n",
    "        - local means no users, just you\n",
    "        - redduced security features\n",
    "        "
   ]
  },
  {
   "cell_type": "markdown",
   "metadata": {},
   "source": [
    "SQL Alchemy is used to SQL queries for any type of SQL database\n",
    "    \n",
    "    - ORM or Object Relational Mapper creates CLASSES in code that are MAPPED to tables in database\n",
    "        - you reference classes instead of tables to keep DECOUPLED\n",
    "            - decoupled code keeps units isolated so you dont break everything\n",
    "        - we can infuence each CLASS independently"
   ]
  },
  {
   "cell_type": "markdown",
   "metadata": {},
   "source": [
    "#### create_engine()  function\n",
    "    - sets up ability to query an SQLite database\n",
    "    - do not actually connect the database, but it prepars the file for later connection\n"
   ]
  },
  {
   "cell_type": "code",
   "execution_count": 21,
   "metadata": {},
   "outputs": [],
   "source": [
    "#prep database file to be connected\n",
    "engine = create_engine(\"sqlite:///hawaii.sqlite\")\n"
   ]
  },
  {
   "cell_type": "markdown",
   "metadata": {},
   "source": [
    "#### automap_base() function\n",
    "    - REFLECT existing databse into a MODEL\n",
    "        - reflecting into a model means transfer contents of databse into a different structure\n",
    "    - creates base CLASS (the 'table') for automap schema\n",
    "#### prepare() function\n",
    "    - after class is set up, you can reflect schema from tables to our code"
   ]
  },
  {
   "cell_type": "code",
   "execution_count": 22,
   "metadata": {},
   "outputs": [],
   "source": [
    "# reflect an existing database into a new model\n",
    "Base = automap_base()\n",
    "\n",
    "# reflect the tables to classes that help keep code separate\n",
    "Base.prepare(engine, reflect=True)\n"
   ]
  },
  {
   "cell_type": "markdown",
   "metadata": {},
   "source": [
    "#### We can view all of the classes that automap found"
   ]
  },
  {
   "cell_type": "code",
   "execution_count": 23,
   "metadata": {},
   "outputs": [
    {
     "data": {
      "text/plain": [
       "['measurement', 'station']"
      ]
     },
     "execution_count": 23,
     "metadata": {},
     "output_type": "execute_result"
    }
   ],
   "source": [
    "#view names of classes\n",
    "Base.classes.keys()"
   ]
  },
  {
   "cell_type": "markdown",
   "metadata": {},
   "source": [
    "#### Save references to each class in a variable"
   ]
  },
  {
   "cell_type": "code",
   "execution_count": 8,
   "metadata": {},
   "outputs": [],
   "source": [
    "# Save references to each class in a variable\n",
    "Measurement = Base.classes.measurement\n",
    "Station = Base.classes.station"
   ]
  },
  {
   "cell_type": "markdown",
   "metadata": {},
   "source": [
    "#### Create session link to DataBase\n",
    "    - Allows us to query the database"
   ]
  },
  {
   "cell_type": "code",
   "execution_count": 9,
   "metadata": {},
   "outputs": [],
   "source": [
    "# Create our session (link) from Python to the DB\n",
    "session = Session(engine)\n"
   ]
  },
  {
   "cell_type": "markdown",
   "metadata": {},
   "source": [
    "# Exploratory Climate Analysis"
   ]
  },
  {
   "cell_type": "markdown",
   "metadata": {},
   "source": [
    "### 9.2.4 Plot precip vs dates"
   ]
  },
  {
   "cell_type": "code",
   "execution_count": 10,
   "metadata": {},
   "outputs": [
    {
     "data": {
      "text/plain": [
       "Text(0, 0.5, 'Precip per day')"
      ]
     },
     "execution_count": 10,
     "metadata": {},
     "output_type": "execute_result"
    },
    {
     "data": {
      "image/png": "[encoded data removed]",
      "text/plain": [
       "<Figure size 432x288 with 1 Axes>"
      ]
     },
     "metadata": {},
     "output_type": "display_data"
    }
   ],
   "source": [
    "# Design a query to retrieve the last 12 months of precipitation data and plot the results. \n",
    "\n",
    "#Starting from the last data point in the database. \n",
    "prev_year = dt.date(2017, 8, 23)\n",
    "\n",
    "# Calculate the date one year from the last date in data set.\n",
    "prev_year = dt.date(2017, 8, 23) - dt.timedelta(days=365)\n",
    "\n",
    "# Perform a session query to retrieve the data and precipitation scores\n",
    "results = []                          #store these session query results in a new list variable\n",
    "results = session.query(Measurement.date, Measurement.prcp)\\\n",
    "                .filter(Measurement.date >= prev_year)\\\n",
    "                .all()\n",
    "\n",
    "#print(results) #to make sure on the right track\n",
    "\n",
    "# will need future access to these query results\n",
    "# Save the query results as a Pandas DataFrame and set the index to the date column\n",
    "df = pd.DataFrame(results, columns=['date','precipitation'])\n",
    "df.set_index(df['date'], inplace=True)\n",
    "\n",
    "#print(df.to_string(index=False)) #view the df w/o index\n",
    "\n",
    "# Sort the dataframe by date (index)\n",
    "df = df.sort_index()\n",
    "#print(df.to_string(index=False))\n",
    "\n",
    "# Use Pandas Plotting with Matplotlib to plot the data\n",
    "df.plot()\n",
    "plt.tick_params(axis = \"x\", rotation=90)\n",
    "plt.ylabel (\"Precip per day\")\n"
   ]
  },
  {
   "cell_type": "markdown",
   "metadata": {},
   "source": [
    "### 9.2.5 Summary Stats"
   ]
  },
  {
   "cell_type": "code",
   "execution_count": 11,
   "metadata": {},
   "outputs": [
    {
     "data": {
      "text/html": [
       "<div>\n",
       "<style scoped>\n",
       "    .dataframe tbody tr th:only-of-type {\n",
       "        vertical-align: middle;\n",
       "    }\n",
       "\n",
       "    .dataframe tbody tr th {\n",
       "        vertical-align: top;\n",
       "    }\n",
       "\n",
       "    .dataframe thead th {\n",
       "        text-align: right;\n",
       "    }\n",
       "</style>\n",
       "<table border=\"1\" class=\"dataframe\">\n",
       "  <thead>\n",
       "    <tr style=\"text-align: right;\">\n",
       "      <th></th>\n",
       "      <th>precipitation</th>\n",
       "    </tr>\n",
       "  </thead>\n",
       "  <tbody>\n",
       "    <tr>\n",
       "      <th>count</th>\n",
       "      <td>2021.000000</td>\n",
       "    </tr>\n",
       "    <tr>\n",
       "      <th>mean</th>\n",
       "      <td>0.177279</td>\n",
       "    </tr>\n",
       "    <tr>\n",
       "      <th>std</th>\n",
       "      <td>0.461190</td>\n",
       "    </tr>\n",
       "    <tr>\n",
       "      <th>min</th>\n",
       "      <td>0.000000</td>\n",
       "    </tr>\n",
       "    <tr>\n",
       "      <th>25%</th>\n",
       "      <td>0.000000</td>\n",
       "    </tr>\n",
       "    <tr>\n",
       "      <th>50%</th>\n",
       "      <td>0.020000</td>\n",
       "    </tr>\n",
       "    <tr>\n",
       "      <th>75%</th>\n",
       "      <td>0.130000</td>\n",
       "    </tr>\n",
       "    <tr>\n",
       "      <th>max</th>\n",
       "      <td>6.700000</td>\n",
       "    </tr>\n",
       "  </tbody>\n",
       "</table>\n",
       "</div>"
      ],
      "text/plain": [
       "       precipitation\n",
       "count    2021.000000\n",
       "mean        0.177279\n",
       "std         0.461190\n",
       "min         0.000000\n",
       "25%         0.000000\n",
       "50%         0.020000\n",
       "75%         0.130000\n",
       "max         6.700000"
      ]
     },
     "execution_count": 11,
     "metadata": {},
     "output_type": "execute_result"
    }
   ],
   "source": [
    "# Use Pandas to calcualte the summary statistics for the precipitation data\n",
    "df.describe()"
   ]
  },
  {
   "cell_type": "markdown",
   "metadata": {},
   "source": [
    "### 9.3.1 Find Number of Stations and How Active"
   ]
  },
  {
   "cell_type": "code",
   "execution_count": 12,
   "metadata": {},
   "outputs": [
    {
     "data": {
      "text/plain": [
       "[(9,)]"
      ]
     },
     "execution_count": 12,
     "metadata": {},
     "output_type": "execute_result"
    }
   ],
   "source": [
    "# How many weather stations are available in this dataset?\n",
    "session.query(func.count(Station.station)).all()\n"
   ]
  },
  {
   "cell_type": "code",
   "execution_count": 13,
   "metadata": {},
   "outputs": [
    {
     "data": {
      "text/plain": [
       "[('USC00519281', 2772),\n",
       " ('USC00519397', 2724),\n",
       " ('USC00513117', 2709),\n",
       " ('USC00519523', 2669),\n",
       " ('USC00516128', 2612),\n",
       " ('USC00514830', 2202),\n",
       " ('USC00511918', 1979),\n",
       " ('USC00517948', 1372),\n",
       " ('USC00518838', 511)]"
      ]
     },
     "execution_count": 13,
     "metadata": {},
     "output_type": "execute_result"
    }
   ],
   "source": [
    "# What are the most active stations?\n",
    "# List the stations and the counts in descending order.\n",
    "session.query(Measurement.station, func.count(Measurement.station)).\\\n",
    "            group_by(Measurement.station).\\\n",
    "            order_by(func.count(Measurement.station).desc()).\\\n",
    "            all()"
   ]
  },
  {
   "cell_type": "markdown",
   "metadata": {},
   "source": [
    "### 9.3.3 High, Low, Avg Temps"
   ]
  },
  {
   "cell_type": "code",
   "execution_count": 14,
   "metadata": {},
   "outputs": [
    {
     "data": {
      "text/plain": [
       "[(54.0, 85.0, 71.66378066378067)]"
      ]
     },
     "execution_count": 14,
     "metadata": {},
     "output_type": "execute_result"
    }
   ],
   "source": [
    "# Using the station id from the previous query, calculate the lowest temperature recorded, \n",
    "# highest temperature recorded, and average temperature from most active station\n",
    "session.query(func.min(Measurement.tobs), func.max(Measurement.tobs), func.avg(Measurement.tobs)).\\\n",
    "                filter(Measurement.station == 'USC00519281').\\\n",
    "                all()"
   ]
  },
  {
   "cell_type": "markdown",
   "metadata": {},
   "source": [
    "### 9.3.4 Plot Highest Number of Observations"
   ]
  },
  {
   "cell_type": "code",
   "execution_count": 15,
   "metadata": {},
   "outputs": [
    {
     "name": "stdout",
     "output_type": "stream",
     "text": [
      "     tobs\n",
      "0    77.0\n",
      "1    77.0\n",
      "2    80.0\n",
      "3    80.0\n",
      "4    75.0\n",
      "..    ...\n",
      "347  77.0\n",
      "348  77.0\n",
      "349  76.0\n",
      "350  76.0\n",
      "351  79.0\n",
      "\n",
      "[352 rows x 1 columns]\n"
     ]
    },
    {
     "data": {
      "image/png": "[encoded data removed]",
      "text/plain": [
       "<Figure size 432x288 with 1 Axes>"
      ]
     },
     "metadata": {},
     "output_type": "display_data"
    }
   ],
   "source": [
    "# Choose the station with the highest number of temperature observations.\n",
    "# Query the last 12 months of temperature observation data for this station \n",
    "\n",
    "session.query(Measurement.tobs)\n",
    "\n",
    "results = session.query(Measurement.tobs).\\\n",
    "                        filter(Measurement.station == 'USC00519281').\\\n",
    "                        filter(Measurement.date >= prev_year).\\\n",
    "                        all()\n",
    "\n",
    "#print(results)\n",
    "\n",
    "#convert results to DataFrame\n",
    "df = pd.DataFrame(results, columns=['tobs'])  #paramater1 is results list, param2 is column(s)\n",
    "print(df)\n",
    "\n",
    "#plot the results as a histogram with 12 bins\n",
    "df.plot.hist(bins=12)\n",
    "plt.tight_layout()\n",
    "\n"
   ]
  },
  {
   "cell_type": "markdown",
   "metadata": {},
   "source": [
    "# Program to run Flask (created in VS code)\n",
    "\n",
    "\n"
   ]
  },
  {
   "cell_type": "markdown",
   "metadata": {},
   "source": [
    "### Dependencies\n",
    "\n",
    "    import datetime as dt\n",
    "    import numpy as np\n",
    "    import pandas as pd\n",
    "    import sqlalchemy\n",
    "    from sqlalchemy.ext.automap import automap_base\n",
    "    from sqlalchemy.orm import Session\n",
    "    from sqlalchemy import create_engine, func\n",
    "    from flask import Flask, jsonify\n"
   ]
  },
  {
   "cell_type": "markdown",
   "metadata": {},
   "source": [
    "### 9.5.1 SET UP DATABASE\n",
    "\n",
    "    #access database\n",
    "    engine = create_engine(\"sqlite:///hawaii.sqlite\")\n",
    "    \n",
    "    #reflect the db into our classes\n",
    "    Base = automap_base()\n",
    "    Base.prepare(engine, reflect=True)\n",
    "\n",
    "    #save references to each table/class\n",
    "    Measurement = Base.classes.measurement\n",
    "    Station = Base.classes.station\n",
    "\n",
    "    #create session link from python to database\n",
    "    session = Session(engine)"
   ]
  },
  {
   "cell_type": "markdown",
   "metadata": {},
   "source": [
    "### SET UP FLASK\n",
    "\n",
    "    #create a flask app instance\n",
    "    app = Flask(__name__)\n",
    "\n",
    "    (to run flask:\n",
    "        open anaconda powershell and type\n",
    "        \"set FLASK_APP=app.py\" and hit enter then type\n",
    "        \"flask run\" and hit enter\n",
    "        and use address provided to view page)"
   ]
  },
  {
   "cell_type": "markdown",
   "metadata": {},
   "source": [
    "### CREATE ROUTES AND FUNCTIONS\n",
    "\n",
    "    #create WELCOME route \n",
    "    @app.route(\"/\")\n",
    "\n",
    "    #create function to reference f strings of other routes\n",
    "    def welcome():\n",
    "        return(\n",
    "        '''\n",
    "        Welcome to the Climate Analysis API!\n",
    "        Available Routes:\n",
    "        /api/v1.0/precipitation\n",
    "        /api/v1.0/stations\n",
    "        /api/v1.0/tobs\n",
    "        /api/v1.0/temp/start/end\n",
    "        ''')\n",
    "\n",
    "    #create precipitation route and function\n",
    "    @app.route(\"/api/v1.0/precipitation\")\n",
    "    def precipitation():\n",
    "\n",
    "        #one year ago from most recent date\n",
    "        prev_year = dt.date(2017, 8, 23) - dt.timedelta(days=365)\n",
    "\n",
    "        #get date and precip from prev year\n",
    "        precipitation = session.query(Measurement.date, Measurement.prcp).\\\n",
    "        filter(Measurement.date >= prev_year).all()\n",
    "\n",
    "        #create dict w date key : precip value\n",
    "        precip = {date: prcp for date, prcp in precipitation}\n",
    "        return jsonify(precip)    \n",
    "\n",
    "    #create stations route and function\n",
    "    @app.route(\"/api/v1.0/stations\")\n",
    "    def stations():\n",
    "\n",
    "        #query to get all stations\n",
    "        results = session.query(Station.station).all()\n",
    "\n",
    "        #convert to a list\n",
    "        stations = list(np.ravel(results))\n",
    "\n",
    "        #return list as json\n",
    "        return jsonify(stations=stations)\n",
    "\n",
    "    #create temperature route and function\n",
    "    @app.route(\"/api/v1.0/tobs\")\n",
    "    def temp_monthly():\n",
    "\n",
    "        #one year ago from most recent date\n",
    "        prev_year = dt.date(2017, 8, 23) - dt.timedelta(days=365)\n",
    "\n",
    "        #query primary station for temp observations from previous year\n",
    "        results = session.query(Measurement.tobs).\\\n",
    "          filter(Measurement.station == 'USC00519281').\\\n",
    "          filter(Measurement.date >= prev_year).all()\n",
    "\n",
    "        #unravel into list\n",
    "        temps = list(np.ravel(results))\n",
    "\n",
    "        #convert list to JSON\n",
    "        return jsonify(temps=temps)\n",
    "\n",
    "    #create statistics route and function with start and end dates\n",
    "    @app.route(\"/api/v1.0/temp/<start>\")\n",
    "    @app.route(\"/api/v1.0/temp/<start>/<end>\")\n",
    "\n",
    "    #add parameters to function set to none\n",
    "    def stats(start=None, end=None):\n",
    "\n",
    "        #query to get stats with list called SELect\n",
    "        sel = [func.min(Measurement.tobs), func.avg(Measurement.tobs), func.max(Measurement.tobs)]\n",
    "\n",
    "        #use if-not to query with SEL list\n",
    "        if not end:\n",
    "            results = session.query(*sel).\\\n",
    "                filter(Measurement.date >= start).all()\n",
    "            #unravel\n",
    "            temps = list(np.ravel(results))\n",
    "            #convert list to JSON\n",
    "            return jsonify(temps=temps)\n",
    "\n",
    "        #calculate statistics with start and end dates\n",
    "        results = session.query(*sel).\\\n",
    "            filter(Measurement.date >= start).\\\n",
    "            filter(Measurement.date <= end).all()\n",
    "        temps = list(np.ravel(results))\n",
    "        return jsonify(temps)   \n",
    "\n"
   ]
  },
  {
   "cell_type": "code",
   "execution_count": 16,
   "metadata": {},
   "outputs": [],
   "source": [
    "# Write a function called `calc_temps` that will accept start date and end date in the format '%Y-%m-%d' \n",
    "# and return the minimum, average, and maximum temperatures for that range of dates\n"
   ]
  }
 ],
 "metadata": {
  "kernelspec": {
   "display_name": "Python 3 (ipykernel)",
   "language": "python",
   "name": "python3"
  },
  "language_info": {
   "codemirror_mode": {
    "name": "ipython",
    "version": 3
   },
   "file_extension": ".py",
   "mimetype": "text/x-python",
   "name": "python",
   "nbconvert_exporter": "python",
   "pygments_lexer": "ipython3",
   "version": "3.7.11"
  }
 },
 "nbformat": 4,
 "nbformat_minor": 2
}
